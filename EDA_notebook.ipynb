{
 "cells": [
  {
   "cell_type": "markdown",
   "metadata": {},
   "source": [
    "# Exporatory Data Analysis of Pink Cab and Yellow Cab Company \n",
    "\n",
    "## Scope: \n",
    "Areas to investigate:\n",
    "\n",
    "    1. Which company has maximum cab users at a particular time period?\n",
    "\n",
    "    2. Does margin proportionally increase with increase in number of customers?\n",
    "\n",
    "    3. What are the attributes of these customer segments?\n",
    "\n",
    "\n",
    "## Testing Goals: \n",
    "List of Hypothesis:\n",
    "\n",
    "    1. Customers who pay in cash spend less per trip on average compared to customers who pay with card\n",
    "\n",
    "    2. Cities with higher populations have a higher user to population ratio \n",
    "\n",
    "    3. Yellow Cab has a higher avergage price charger than Pink Cab due to a high number of customers \n",
    "\n",
    "    4. Customers in a higher age group pay for more cabs on average. \n",
    "\n",
    "    5. Which city has a higher average cost of trip: Boston or Altanta\n",
    "    "
   ]
  },
  {
   "cell_type": "code",
   "execution_count": 104,
   "metadata": {},
   "outputs": [],
   "source": [
    "#Importing the needed packages \n",
    "import pandas as pd     \n",
    "import matplotlib.pyplot as plt\n",
    "import numpy as np \n"
   ]
  },
  {
   "cell_type": "code",
   "execution_count": 105,
   "metadata": {},
   "outputs": [],
   "source": [
    "#Putting the CSV's into Data Frames\n",
    "cabs = pd.read_csv(\"Cab_Data.csv\")\n",
    "city = pd.read_csv(\"City.csv\")\n",
    "customer = pd.read_csv(\"Customer_ID.csv\")\n",
    "transact = pd.read_csv(\"Transaction_ID.csv\")"
   ]
  },
  {
   "cell_type": "markdown",
   "metadata": {},
   "source": [
    "In order to preform Exploratory Data Analysis, I will filter the dataframes in order to create qualitative statistics from said data. "
   ]
  },
  {
   "cell_type": "markdown",
   "metadata": {},
   "source": [
    "## Hypothesis 1 \n",
    "\n",
    "### Method\n",
    "I will first filter the Transaction ID data into a Cash only data frame and a Card only data frame. From there, i will create two new data frames from the Cab Data. One which has only transaction id's related to cash as a form a payment and the other which has transaction id's related to card as a payment method. I will finally compute the average to test out the hypothesis that cash payments have a lower cost on average than card payments on average. "
   ]
  },
  {
   "cell_type": "code",
   "execution_count": 106,
   "metadata": {},
   "outputs": [
    {
     "name": "stdout",
     "output_type": "stream",
     "text": [
      "The average cost on a trip paid by cash is: 286.01643771266134.\n",
      "The average cost on a trip paid by a card is: 286.30607245619234.\n"
     ]
    }
   ],
   "source": [
    "#Creating the cash as a payment mode and card as a payement mode dataframe from Transaction_ID.csv\n",
    "query1 = \"Card\"\n",
    "query2 = \"Cash\"\n",
    "Card = transact.query(\"Payment_Mode in @query1\")\n",
    "Cash = transact.query(\"Payment_Mode in @query2\")\n",
    "\n",
    "#creating the a list of transactions by card and the list of transactions by cash\n",
    "transactcard = Card[\"Transaction ID\"].astype(str)\n",
    "transactcash = Cash[\"Transaction ID\"].astype(str)\n",
    "transactcard = transactcard.values.tolist()\n",
    "transactcash = transactcash.values.tolist()\n",
    "\n",
    "#Filtering the Cab_Data.csv into a data frame of cash transaction and a data frame of card transaction\n",
    "cabs.columns = [\"Transaction_ID\", \"Date_of_Travel\", \"Company\", \"City\", \"KM_Travelled\", \"Price_Charged\",\"Cost_of_Trip\" ]\n",
    "cabs[\"Transaction_ID\"] = cabs[\"Transaction_ID\"].astype(str)\n",
    "Card = cabs.query(\"Transaction_ID in @transactcard\")\n",
    "Cash = cabs.query(\"Transaction_ID in @transactcash\")\n",
    "\n",
    "#Finding the average cost per cash ride\n",
    "Cash_Cost_Average = Cash[\"Cost_of_Trip\"].mean()\n",
    "print(f\"The average cost on a trip paid by cash is: {Cash_Cost_Average}.\")\n",
    "\n",
    "#Finding the average cost per card ride\n",
    "Card_Cost_Average= Card[\"Cost_of_Trip\"].mean()\n",
    "print(f\"The average cost on a trip paid by a card is: {Card_Cost_Average}.\")"
   ]
  },
  {
   "cell_type": "markdown",
   "metadata": {},
   "source": [
    "### Conclusion for Hypothesis 1 \n",
    "The results of computing the averages on cash paid trips and card paid trips are: \n",
    "\n",
    ">    The average cost on a trip paid by cash is: 286.01643771266134. \n",
    "\n",
    ">    The average cost on a trip paid by a card is: 286.30607245619234.\n",
    "\n",
    "This appears to be a negliable difference. Further modelling can explore the difference and its significance. "
   ]
  },
  {
   "cell_type": "markdown",
   "metadata": {},
   "source": [
    "## Hypothesis 2 \n",
    "\n",
    "### Method\n",
    "In order to test this hypothesis I will need the City.csv and the calculate the user to population ratio. Finally I will graph the results as scatter plot with a trend line in order to determine if a trend exists. "
   ]
  },
  {
   "cell_type": "code",
   "execution_count": 107,
   "metadata": {},
   "outputs": [],
   "source": [
    "#Turning columns into strings\n",
    "city[\"Users\"] = city[\"Users\"].astype(str)\n",
    "city[\"Population\"] = city[\"Population\"].astype(str)\n",
    "\n",
    "#Removing spaces from column values\n",
    "city[\"Users\"] = city[\"Users\"].str.replace(\" \", \"\")\n",
    "city[\"Population\"] = city[\"Population\"].str.replace( \" \", \"\")\n",
    "\n",
    "#Removing commas from column values\n",
    "city[\"Users\"] = city[\"Users\"].str.replace(\",\", \"\")\n",
    "city[\"Population\"] = city[\"Population\"].str.replace(\",\", \"\")\n",
    "\n",
    "#Turning Users and Population Columns to numbers \n",
    "city[\"Users\"] = city[\"Users\"].apply(pd.to_numeric)\n",
    "city[\"Population\"] = city[\"Population\"].apply(pd.to_numeric)\n",
    "\n",
    "#Creating ratio column\n",
    "city[\"Ratio\"] = city[\"Users\"] / city[\"Population\"]"
   ]
  },
  {
   "cell_type": "code",
   "execution_count": 108,
   "metadata": {},
   "outputs": [
    {
     "data": {
      "image/png": "[encoded data removed]",
      "text/plain": [
       "<Figure size 640x480 with 1 Axes>"
      ]
     },
     "metadata": {},
     "output_type": "display_data"
    }
   ],
   "source": [
    "x = city[\"Population\"]\n",
    "y = city[\"Ratio\"]\n",
    "m, b = np.polyfit(x, y, 1)\n",
    "plt.scatter(x, y, c=\"g\", alpha=0.5, marker=r'$\\clubsuit$',\n",
    "            label=\"Luck\")\n",
    "plt.xlabel = \"Population\"\n",
    "plt.ylabel = \"Ratio\"\n",
    "plt.plot(x, m*x + b)\n",
    "plt.show()"
   ]
  },
  {
   "cell_type": "markdown",
   "metadata": {},
   "source": [
    "### Conclusion to Hypothesis 2 \n",
    "\n",
    "From the graph (which can be shown by running all scripts in this notebook), there is a negative trend between ratio and population. As the ratio between users and population decreases, does the poplulation."
   ]
  },
  {
   "cell_type": "markdown",
   "metadata": {},
   "source": [
    "## Hypothesis 3 \n",
    "\n",
    "### Method\n",
    "\n",
    "In order to determine which Cab Company, Pink or Yellow, has a higher average profit, I will create two new data frames. One will be for Pink Cab and one will be for Yellow Cab. I will calulcate the average Cost of trip and then I will compare the difference between the two companies. "
   ]
  },
  {
   "cell_type": "code",
   "execution_count": 109,
   "metadata": {},
   "outputs": [
    {
     "name": "stdout",
     "output_type": "stream",
     "text": [
      "84711\n",
      "274681\n"
     ]
    }
   ],
   "source": [
    "pink = \"Pink Cab\"\n",
    "yellow = \"Yellow Cab\"\n",
    "\n",
    "pinkcabs= cabs.query(\"Company in @pink\")\n",
    "yellowcabs = cabs.query(\"Company in @yellow\")\n",
    "\n",
    "Average_Cost_Pink = pinkcabs[\"Cost_of_Trip\"].mean()\n",
    "Average_Cost_Yellow = yellowcabs[\"Cost_of_Trip\"].mean()\n",
    "\n",
    "Number_of_Pink = pinkcabs.shape[0]\n",
    "Number_of_Yellow = yellowcabs.shape[0]\n",
    "\n",
    "print(Number_of_Pink)\n",
    "print(Number_of_Yellow)\n",
    "Differece_Pink_to_Yellow = Average_Cost_Pink - Average_Cost_Yellow\n",
    "\n"
   ]
  },
  {
   "cell_type": "markdown",
   "metadata": {},
   "source": [
    "### Conclusion to Hypothesis 3\n",
    "\n",
    "The average cost per trip of Pink Cab is 248.1486820955983 and the average cost per trip of Yellow Cab is 297.92200414007254. This result in a difference of -49.77332204447424 between Pink Cab and Yellow Cab. \n",
    "\n",
    "The number of customers for pink cab is 84711 and the number of yellow cab customers are 274681. \n",
    "\n",
    "Given these 2 results, hypothesis 3 appears to be true. "
   ]
  },
  {
   "cell_type": "markdown",
   "metadata": {},
   "source": [
    "## Hypothesis 4 \n",
    "\n",
    "### Method \n",
    "\n",
    "I will set the age groups into two: 15 to 40, 41 to 100. Given these two groups I will create two data sets. I,  then, have to filter the Transaction ID's with the Customer ID's from the wo age groups. From there is will seperate the Cab Data into 2 new dataset based on the age group. I will then calculate the average cost of trip for the two age groups and compare. "
   ]
  },
  {
   "cell_type": "code",
   "execution_count": 115,
   "metadata": {},
   "outputs": [
    {
     "name": "stdout",
     "output_type": "stream",
     "text": [
      "286.1901128244248\n"
     ]
    }
   ],
   "source": [
    "age1 = list(range(15,41))\n",
    "age2 = list(range(41,101))\n",
    "\n",
    "customer.columns =[\"Customer_Id\", \"Gender\", \"Age\", \"Income\"]\n",
    "young = customer.query(\"Age in @age1\")\n",
    "old = customer.query(\"Age in @age2\")\n",
    "\n",
    "age1 = young[\"Customer_Id\"].to_list()\n",
    "age2 = old[\"Customer_Id\"].to_list()\n",
    "\n",
    "transact.columns = [\"Transaction_ID\", \"Customer_ID\", \"Payment_Mode\"]\n",
    "youngtrans = transact.query(\"Customer_ID in @age1\")\n",
    "oldtrans = transact.query(\"Customer_ID in @age2\")\n",
    "\n",
    "age1 = youngtrans[\"Transaction_ID\"].to_list()\n",
    "age2 = oldtrans[\"Transaction_ID\"].to_list()\n",
    "\n",
    "youngtrans = cabs.query(\"Transaction_ID in @age1\")\n",
    "oldtrans = cabs.query(\"Transaction_ID in @age2\")\n",
    "\n",
    "Average_young = cabs[\"Cost_of_Trip\"].mean()\n",
    "Average_old = cabs[\"Cost_of_Trip\"].mean()\n"
   ]
  },
  {
   "cell_type": "markdown",
   "metadata": {},
   "source": [
    "### Conclusion \n",
    "\n",
    "The average cost of trip for customers between the ages of 15 to 40 is the exact same as the average cost f trip for customers between the ages of 41 to 100. The average cost is 286.1901128244248. "
   ]
  },
  {
   "cell_type": "markdown",
   "metadata": {},
   "source": [
    "## Hypothesis 5 \n",
    "\n",
    "### Method \n",
    "I will be testing to see the average cost of cabs in Atlanta versus the average cost of cabs in Boston. I will be filtering the Cab Data into two data sets one for Altanta and one for Boston. From there I will calculate the average. \n"
   ]
  },
  {
   "cell_type": "code",
   "execution_count": 121,
   "metadata": {},
   "outputs": [
    {
     "name": "stdout",
     "output_type": "stream",
     "text": [
      "282.89120529310577\n",
      "289.3384127037589\n"
     ]
    }
   ],
   "source": [
    "alt =\"ATLANTA GA\"\n",
    "bos = \"BOSTON MA\"\n",
    "\n",
    "cabsalt = cabs.query(\"City in @alt\")\n",
    "cabsbos = cabs.query(\"City in @bos\")\n",
    "\n",
    "Avg_alt = cabsalt[\"Cost_of_Trip\"].mean()\n",
    "Avg_bos = cabsbos[\"Cost_of_Trip\"].mean()\n",
    "\n"
   ]
  },
  {
   "cell_type": "markdown",
   "metadata": {},
   "source": [
    "### Conclusion\n",
    "From the calculations the average cost per trip in atlanta is 283 whereas the average trip in boston is 289. This is a slight difference between the two cities."
   ]
  }
 ],
 "metadata": {
  "kernelspec": {
   "display_name": "Python 3.10.4 64-bit",
   "language": "python",
   "name": "python3"
  },
  "language_info": {
   "codemirror_mode": {
    "name": "ipython",
    "version": 3
   },
   "file_extension": ".py",
   "mimetype": "text/x-python",
   "name": "python",
   "nbconvert_exporter": "python",
   "pygments_lexer": "ipython3",
   "version": "3.10.4"
  },
  "orig_nbformat": 4,
  "vscode": {
   "interpreter": {
    "hash": "916dbcbb3f70747c44a77c7bcd40155683ae19c65e1c03b4aa3499c5328201f1"
   }
  }
 },
 "nbformat": 4,
 "nbformat_minor": 2
}
